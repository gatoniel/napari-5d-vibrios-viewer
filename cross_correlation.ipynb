{
 "cells": [
  {
   "cell_type": "code",
   "execution_count": 52,
   "id": "8942859d",
   "metadata": {},
   "outputs": [],
   "source": [
    "import os\n",
    "from itertools import product\n",
    "from tqdm.notebook import trange, tqdm\n",
    "import numpy as np\n",
    "import matplotlib.pyplot as plt\n",
    "from napari import Viewer\n",
    "from tifffile import imwrite, TiffFile, imread\n",
    "\n",
    "from glob import glob\n",
    "\n",
    "from skimage.filters import threshold_multiotsu\n",
    "from skimage.io.collection import alphanumeric_key\n",
    "\n",
    "from scipy.ndimage import uniform_filter, correlate, convolve\n",
    "from scipy.stats import pearsonr\n",
    "\n",
    "import scipy.signal\n",
    "\n",
    "from scipy.stats import pearsonr\n",
    "\n",
    "\n",
    "from napari_5d_vibrios_viewer._widget import read_files, DaskViewer\n",
    "from napari_3d_ortho_viewer._dock_widget import OrthoViewerWidget\n",
    "\n",
    "plt.rcParams.update({\"font.size\": 14})"
   ]
  },
  {
   "cell_type": "code",
   "execution_count": 4,
   "id": "6025ffc9",
   "metadata": {},
   "outputs": [
    {
     "data": {
      "text/plain": [
       "<napari._qt.widgets.qt_viewer_dock_widget.QtViewerDockWidget at 0x26eb564aee0>"
      ]
     },
     "execution_count": 4,
     "metadata": {},
     "output_type": "execute_result"
    }
   ],
   "source": [
    "viewer = Viewer()\n",
    "widget = DaskViewer(viewer)\n",
    "viewer.window.add_dock_widget(widget)"
   ]
  },
  {
   "cell_type": "code",
   "execution_count": 58,
   "id": "bdabdefe",
   "metadata": {},
   "outputs": [],
   "source": [
    "path = r\"C:\\Henriette\\2022_03_16\\B2_2\"\n",
    "path = r\"C:\\Henriette\\2022_03_16\\D6_2\"\n",
    "#path = r\"C:\\Henriette\\2022_03_16\\E2_2\""
   ]
  },
  {
   "cell_type": "code",
   "execution_count": 59,
   "id": "81ded580",
   "metadata": {},
   "outputs": [
    {
     "name": "stdout",
     "output_type": "stream",
     "text": [
      "[4, 1, 2, 3]\n",
      "(25, 1, 1024, 1024)\n",
      "(25, 50, 1024, 1024)\n",
      "(25, 50, 1024, 1024)\n",
      "(25, 50, 1024, 1024)\n"
     ]
    }
   ],
   "source": [
    "widget.file_edit.value = path\n",
    "widget._on_click()"
   ]
  },
  {
   "cell_type": "code",
   "execution_count": 71,
   "id": "5513895d",
   "metadata": {},
   "outputs": [
    {
     "data": {
      "application/vnd.jupyter.widget-view+json": {
       "model_id": "1c5b2babd38e466dbdbfe97e2e563f24",
       "version_major": 2,
       "version_minor": 0
      },
      "text/plain": [
       "  0%|          | 0/25 [00:00<?, ?it/s]"
      ]
     },
     "metadata": {},
     "output_type": "display_data"
    },
    {
     "data": {
      "text/plain": [
       "(25, 50, 1024, 1024)"
      ]
     },
     "execution_count": 71,
     "metadata": {},
     "output_type": "execute_result"
    }
   ],
   "source": [
    "gfp = viewer.layers[\"GFP\"].data\n",
    "uniform = []\n",
    "corr = []\n",
    "conv = []\n",
    "for i in trange(gfp.shape[0]):\n",
    "    image = gfp[i, ...]\n",
    "    image = uniform_filter(image, size=5)\n",
    "    uniform.append(image)\n",
    "    \n",
    "    #corr.append(correlate(image, image))\n",
    "    #conv.append(convolve(image, image))\n",
    "uniform = np.stack(uniform, axis=0)\n",
    "#corr = np.stack(corr, axis=0)\n",
    "#conv = np.stack(conv, axis=0)\n",
    "uniform.shape"
   ]
  },
  {
   "cell_type": "code",
   "execution_count": 72,
   "id": "f803fa2d",
   "metadata": {},
   "outputs": [
    {
     "data": {
      "text/plain": [
       "<Image layer 'uniform' at 0x26ecc85c970>"
      ]
     },
     "execution_count": 72,
     "metadata": {},
     "output_type": "execute_result"
    }
   ],
   "source": [
    "viewer.add_image(uniform, scale=(1, 1, 0.3289, 0.3289), colormap=\"green\")"
   ]
  },
  {
   "cell_type": "code",
   "execution_count": 73,
   "id": "19119a06",
   "metadata": {},
   "outputs": [
    {
     "data": {
      "application/vnd.jupyter.widget-view+json": {
       "model_id": "0fcf07be5882404ba07e97b7c6ff61c1",
       "version_major": 2,
       "version_minor": 0
      },
      "text/plain": [
       "  0%|          | 0/25 [00:00<?, ?it/s]"
      ]
     },
     "metadata": {},
     "output_type": "display_data"
    }
   ],
   "source": [
    "mKokappa = viewer.layers[\"mKokappa\"].data\n",
    "\n",
    "mko_biomass = []\n",
    "mko_total = []\n",
    "binary = []\n",
    "\n",
    "mko_gfp = []\n",
    "\n",
    "for i in trange(mKokappa.shape[0]):\n",
    "    image = mKokappa[i, ...]\n",
    "    \n",
    "    binarized = (image > 1000)\n",
    "    \n",
    "    mko_gfp.append(gfp[i, binarized].mean())\n",
    "    \n",
    "    mko_biomass.append(binarized.sum())\n",
    "    mko_total.append(image.mean())\n",
    "    \n",
    "    binary.append(binarized)\n",
    "    \n",
    "binary = np.stack(binary, axis=0)"
   ]
  },
  {
   "cell_type": "code",
   "execution_count": 74,
   "id": "a0922eda",
   "metadata": {},
   "outputs": [
    {
     "data": {
      "text/plain": [
       "<Labels layer 'binary' at 0x26ecfc2ed30>"
      ]
     },
     "execution_count": 74,
     "metadata": {},
     "output_type": "execute_result"
    }
   ],
   "source": [
    "viewer.add_labels(binary, scale=(1, 1, 0.3289, 0.3289))"
   ]
  },
  {
   "cell_type": "code",
   "execution_count": 75,
   "id": "824345f8",
   "metadata": {},
   "outputs": [
    {
     "data": {
      "text/plain": [
       "[<matplotlib.lines.Line2D at 0x26ecff0f460>]"
      ]
     },
     "execution_count": 75,
     "metadata": {},
     "output_type": "execute_result"
    },
    {
     "data": {
      "image/png": "[encoded data removed]",
      "text/plain": [
       "<Figure size 432x288 with 1 Axes>"
      ]
     },
     "metadata": {
      "needs_background": "light"
     },
     "output_type": "display_data"
    }
   ],
   "source": [
    "plt.plot(mko_biomass)"
   ]
  },
  {
   "cell_type": "code",
   "execution_count": 76,
   "id": "1cf1906b",
   "metadata": {},
   "outputs": [
    {
     "data": {
      "application/vnd.jupyter.widget-view+json": {
       "model_id": "54ec06d94b5849f6ad498e3175130b0e",
       "version_major": 2,
       "version_minor": 0
      },
      "text/plain": [
       "  0%|          | 0/25 [00:00<?, ?it/s]"
      ]
     },
     "metadata": {},
     "output_type": "display_data"
    },
    {
     "name": "stderr",
     "output_type": "stream",
     "text": [
      "C:\\Users\\NETTER~1\\AppData\\Local\\Temp/ipykernel_5884/2847490951.py:17: RuntimeWarning: Mean of empty slice.\n",
      "  mka_gfp[i, j] = gfp[i, binarized].mean()\n",
      "d:\\drescherlab\\napari-5d-vibrios-viewer\\dev\\lib\\site-packages\\numpy\\core\\_methods.py:189: RuntimeWarning: invalid value encountered in double_scalars\n",
      "  ret = ret.dtype.type(ret / rcount)\n"
     ]
    }
   ],
   "source": [
    "mKate = viewer.layers[\"mKate\"].data\n",
    "\n",
    "mka_biomass = np.empty((mKate.shape[0], 3))\n",
    "mka_total = []\n",
    "\n",
    "thresholds = [2000, 5000, 10000]\n",
    "mka_binary = []\n",
    "\n",
    "mka_gfp = np.empty((mKate.shape[0], 3))\n",
    "\n",
    "for i in trange(mKokappa.shape[0]):\n",
    "    image = mKate[i, ...]\n",
    "    \n",
    "    for j, t in enumerate(thresholds):\n",
    "    \n",
    "        binarized = (image > t)\n",
    "        mka_gfp[i, j] = gfp[i, binarized].mean()\n",
    "    \n",
    "        mka_biomass[i, j] = binarized.sum()\n",
    "    \n",
    "    mka_total.append(image.mean())\n",
    "    \n",
    "    mka_binary.append(binarized)\n",
    "    \n",
    "mka_binary = np.stack(mka_binary, axis=0)"
   ]
  },
  {
   "cell_type": "code",
   "execution_count": 77,
   "id": "e3bd83f7",
   "metadata": {},
   "outputs": [
    {
     "data": {
      "text/plain": [
       "<matplotlib.legend.Legend at 0x26ecff4e9a0>"
      ]
     },
     "execution_count": 77,
     "metadata": {},
     "output_type": "execute_result"
    },
    {
     "data": {
      "image/png": "[encoded data removed]",
      "text/plain": [
       "<Figure size 432x288 with 1 Axes>"
      ]
     },
     "metadata": {
      "needs_background": "light"
     },
     "output_type": "display_data"
    }
   ],
   "source": [
    "plt.plot(mko_biomass, label=\"mKokappa\")\n",
    "\n",
    "for j, t in enumerate(thresholds):\n",
    "    plt.plot(mka_biomass[:, j], label=f\"mKate > {t}\")\n",
    "\n",
    "ax = plt.gca()\n",
    "ax.set_ylabel(\"biomass in a.u.\")\n",
    "ax.set_xlabel(\"timepoints\")\n",
    "\n",
    "plt.legend()"
   ]
  },
  {
   "cell_type": "code",
   "execution_count": 78,
   "id": "fc354c1a",
   "metadata": {},
   "outputs": [
    {
     "data": {
      "text/plain": [
       "<matplotlib.legend.Legend at 0x26ed0db0d90>"
      ]
     },
     "execution_count": 78,
     "metadata": {},
     "output_type": "execute_result"
    },
    {
     "data": {
      "image/png": "[encoded data removed]",
      "text/plain": [
       "<Figure size 432x288 with 1 Axes>"
      ]
     },
     "metadata": {
      "needs_background": "light"
     },
     "output_type": "display_data"
    }
   ],
   "source": [
    "plt.plot(mko_gfp, label=\"mKokappa\")\n",
    "\n",
    "for j, t in enumerate(thresholds):\n",
    "    plt.plot(mka_gfp[:, j], label=f\"mKate > {t}\")\n",
    "    \n",
    "\n",
    "\n",
    "ax = plt.gca()\n",
    "ax.set_ylabel(\"mean gfp intensity in a.u.\")\n",
    "ax.set_xlabel(\"timepoints\")\n",
    "\n",
    "plt.legend()"
   ]
  },
  {
   "cell_type": "code",
   "execution_count": 79,
   "id": "900c3532",
   "metadata": {},
   "outputs": [
    {
     "data": {
      "text/plain": [
       "<matplotlib.legend.Legend at 0x26ed259b880>"
      ]
     },
     "execution_count": 79,
     "metadata": {},
     "output_type": "execute_result"
    },
    {
     "data": {
      "image/png": "[encoded data removed]",
      "text/plain": [
       "<Figure size 432x288 with 1 Axes>"
      ]
     },
     "metadata": {
      "needs_background": "light"
     },
     "output_type": "display_data"
    }
   ],
   "source": [
    "plt.plot(mko_total, label=\"mKokappa\")\n",
    "plt.plot(mka_total, label=\"mKate\")\n",
    "\n",
    "plt.legend()"
   ]
  },
  {
   "cell_type": "code",
   "execution_count": null,
   "id": "c969ed37",
   "metadata": {},
   "outputs": [],
   "source": [
    "viewer.add_labels(mka_binary, scale=(1, 1, 0.3289, 0.3289))"
   ]
  },
  {
   "cell_type": "code",
   "execution_count": 47,
   "id": "db65e512",
   "metadata": {},
   "outputs": [
    {
     "name": "stdout",
     "output_type": "stream",
     "text": [
      "[4, 1, 2, 3]\n",
      "(1, 1, 1024, 1024)\n",
      "(1, 50, 1024, 1024)\n",
      "(1, 50, 1024, 1024)\n",
      "(1, 50, 1024, 1024)\n",
      "[4, 1, 2, 3]\n",
      "(1, 1, 1024, 1024)\n",
      "(1, 50, 1024, 1024)\n",
      "(1, 50, 1024, 1024)\n",
      "(1, 50, 1024, 1024)\n"
     ]
    }
   ],
   "source": [
    "viewer2 = Viewer()"
   ]
  },
  {
   "cell_type": "code",
   "execution_count": null,
   "id": "674ca575",
   "metadata": {},
   "outputs": [],
   "source": [
    "image = gfp[12, 14, ...]"
   ]
  },
  {
   "cell_type": "code",
   "execution_count": null,
   "id": "74c39d9d",
   "metadata": {},
   "outputs": [],
   "source": [
    "corr = scipy.signal.correlate(image, image)\n",
    "conv = scipy.signal.convolve(image, image)"
   ]
  },
  {
   "cell_type": "code",
   "execution_count": null,
   "id": "60e97835",
   "metadata": {},
   "outputs": [],
   "source": [
    "conv.shape"
   ]
  },
  {
   "cell_type": "code",
   "execution_count": null,
   "id": "c13cbf66",
   "metadata": {},
   "outputs": [],
   "source": [
    "viewer2.add_image(corr)\n",
    "viewer2.add_image(conv)"
   ]
  },
  {
   "cell_type": "code",
   "execution_count": null,
   "id": "45c68607",
   "metadata": {},
   "outputs": [],
   "source": [
    "viewer2.add_image(image)"
   ]
  },
  {
   "cell_type": "code",
   "execution_count": null,
   "id": "5a1579d4",
   "metadata": {},
   "outputs": [],
   "source": [
    "def mypearson(x, y):\n",
    "    return pearsonr(x.flatten(), y.flatten())[0]\n",
    "\n",
    "def mycross(x, y, num):\n",
    "    new_shape = [num*2 + 1,] * x.ndim\n",
    "    cross = np.empty(tuple(new_shape))\n",
    "    \n",
    "    center = tuple(num for _ in x.shape)\n",
    "    cross[center] = 1\n",
    "    \n",
    "    ranges = list(range(-num, 1)) + list(range(1, num+1))\n",
    "    \n",
    "    for offsets in product(*[ranges,] * x.ndim):\n",
    "        \n",
    "        if not any(o != 0 for o in offsets):\n",
    "            continue\n",
    "        \n",
    "        pos = tuple(num + o for o in offsets)\n",
    "        \n",
    "        slicesx = []\n",
    "        slicesy = []\n",
    "        for o in offsets:\n",
    "            startslice = slice(abs(o), None)\n",
    "            endslice = slice(None, -abs(o))\n",
    "            if o > 0:\n",
    "                slicesx.append(startslice)\n",
    "                slicesy.append(endslice)\n",
    "            elif o < 0:\n",
    "                slicesx.append(endslice)\n",
    "                slicesy.append(startslice)\n",
    "            else:\n",
    "                slicesx.append(slice(None))\n",
    "                slicesy.append(slice(None))\n",
    "        \n",
    "        slicesx = tuple(slicesx)\n",
    "        slicesy = tuple(slicesy)\n",
    "        \n",
    "        cross[pos] = mypearson(x[slicesx], y[slicesy])\n",
    "    \n",
    "    return cross"
   ]
  },
  {
   "cell_type": "code",
   "execution_count": null,
   "id": "01bdf8ff",
   "metadata": {},
   "outputs": [],
   "source": [
    "x = np.arange(9).reshape(3, 3)\n",
    "print(x)\n",
    "arr = mycross(x, x, 1)\n",
    "arr"
   ]
  },
  {
   "cell_type": "code",
   "execution_count": null,
   "id": "ec665d35",
   "metadata": {
    "scrolled": false
   },
   "outputs": [],
   "source": [
    "plt.imshow(arr)"
   ]
  },
  {
   "cell_type": "code",
   "execution_count": null,
   "id": "72fa15de",
   "metadata": {},
   "outputs": [],
   "source": [
    "cross = mycross(image, image, 10)"
   ]
  },
  {
   "cell_type": "code",
   "execution_count": null,
   "id": "092d3447",
   "metadata": {},
   "outputs": [],
   "source": [
    "plt.imshow(cross)"
   ]
  }
 ],
 "metadata": {
  "kernelspec": {
   "display_name": "Python 3 (ipykernel)",
   "language": "python",
   "name": "python3"
  },
  "language_info": {
   "codemirror_mode": {
    "name": "ipython",
    "version": 3
   },
   "file_extension": ".py",
   "mimetype": "text/x-python",
   "name": "python",
   "nbconvert_exporter": "python",
   "pygments_lexer": "ipython3",
   "version": "3.9.6"
  }
 },
 "nbformat": 4,
 "nbformat_minor": 5
}
